{
  "nbformat": 4,
  "nbformat_minor": 0,
  "metadata": {
    "colab": {
      "provenance": []
    },
    "kernelspec": {
      "name": "python3",
      "display_name": "Python 3"
    },
    "language_info": {
      "name": "python"
    }
  },
  "cells": [
    {
      "cell_type": "code",
      "execution_count": null,
      "metadata": {
        "id": "psXi842Ynb4n",
        "colab": {
          "base_uri": "https://localhost:8080/"
        },
        "outputId": "fa74a677-182d-4f95-cc85-a5eaff18d5f2"
      },
      "outputs": [
        {
          "output_type": "stream",
          "name": "stdout",
          "text": [
            "INITIAL  MATRIX:\n",
            " [[3 9 2 4]\n",
            " [1 1 8 3]\n",
            " [3 3 9 3]\n",
            " [9 6 7 2]]\n"
          ]
        }
      ],
      "source": [
        "import numpy as np\n",
        " # to get a random 4 * 4 matrix\n",
        "matrix = np.random.randint(1, 100, size=(4, 4))\n",
        "print(\"INITIAL  MATRIX:\\n\", matrix)"
      ]
    },
    {
      "cell_type": "code",
      "source": [
        "#to make its transpose\n",
        "transpose = ([[0,0,0,0],\n",
        "          [0,0,0,0],\n",
        "          [0,0,0,0],\n",
        "          [0,0,0,0]])\n",
        "\n",
        "for i in range(len(matrix)):\n",
        "   # iterate through columns\n",
        "   for j in range(len(matrix[0])):\n",
        "       transpose[j][i] = matrix[i][j]\n",
        "print(transpose)"
      ],
      "metadata": {
        "colab": {
          "base_uri": "https://localhost:8080/"
        },
        "id": "zlOqoWxcpBkJ",
        "outputId": "51e327ed-f496-4481-cf0d-92abdcac816c"
      },
      "execution_count": null,
      "outputs": [
        {
          "output_type": "stream",
          "name": "stdout",
          "text": [
            "[[3, 1, 3, 9], [9, 1, 3, 6], [2, 8, 9, 7], [4, 3, 3, 2]]\n"
          ]
        }
      ]
    },
    {
      "cell_type": "code",
      "source": [
        "multiplied_matrix = [[0,0,0,0],[0,0,0,0],[0,0,0,0],[0,0,0,0]]\n",
        "for i in range(len(matrix)):\n",
        "   for j in range(len(transpose[0])):\n",
        "       for k in range(len(transpose)):\n",
        "           multiplied_matrix[i][j] += matrix[i][k] * transpose[k][j]\n",
        "print(multiplied_matrix)"
      ],
      "metadata": {
        "colab": {
          "base_uri": "https://localhost:8080/"
        },
        "id": "v4NEhUvmrxZs",
        "outputId": "83acd896-beb4-4397-89fb-4278d174c128"
      },
      "execution_count": null,
      "outputs": [
        {
          "output_type": "stream",
          "name": "stdout",
          "text": [
            "[[110, 40, 66, 103], [40, 75, 87, 77], [66, 87, 108, 114], [103, 77, 114, 170]]\n"
          ]
        }
      ]
    },
    {
      "cell_type": "code",
      "source": [
        "Reshaped_Matrix = np.reshape(multiplied_matrix, (2, 8))\n",
        "\n",
        "print(\"Reshaped Matrix : \")\n",
        "print(Reshaped_Matrix)"
      ],
      "metadata": {
        "colab": {
          "base_uri": "https://localhost:8080/"
        },
        "id": "SWKgmqNZtXCe",
        "outputId": "1f988ec6-a216-4fce-b0ac-83a16631f19d"
      },
      "execution_count": null,
      "outputs": [
        {
          "output_type": "stream",
          "name": "stdout",
          "text": [
            "Reshaped Matrix : \n",
            "[[110  40  66 103  40  75  87  77]\n",
            " [ 66  87 108 114 103  77 114 170]]\n"
          ]
        }
      ]
    }
  ]
}
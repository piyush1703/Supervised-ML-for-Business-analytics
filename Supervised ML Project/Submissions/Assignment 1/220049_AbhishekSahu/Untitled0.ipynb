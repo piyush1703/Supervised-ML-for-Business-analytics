{
  "nbformat": 4,
  "nbformat_minor": 0,
  "metadata": {
    "colab": {
      "provenance": [],
      "authorship_tag": "ABX9TyMu6Ci3SIY5LlsPhMrBrjoU",
      "include_colab_link": true
    },
    "kernelspec": {
      "name": "python3",
      "display_name": "Python 3"
    },
    "language_info": {
      "name": "python"
    }
  },
  "cells": [
    {
      "cell_type": "markdown",
      "metadata": {
        "id": "view-in-github",
        "colab_type": "text"
      },
      "source": [
        "<a href=\"https://colab.research.google.com/github/Amanm22/Supervised-ML-for-Business-analytics/blob/main/Untitled0.ipynb\" target=\"_parent\"><img src=\"https://colab.research.google.com/assets/colab-badge.svg\" alt=\"Open In Colab\"/></a>"
      ]
    },
    {
      "cell_type": "markdown",
      "source": [
        "# week 1 task\n"
      ],
      "metadata": {
        "id": "Gh6BhomLnVoi"
      }
    },
    {
      "cell_type": "markdown",
      "source": [
        "1)Write a code to multiply Matrix with it's transpose of a randomly generated 4*4 matrix and then reshape it to some 2x8 matrix."
      ],
      "metadata": {
        "id": "It3srDqLnkup"
      }
    },
    {
      "cell_type": "code",
      "source": [
        "import numpy as np"
      ],
      "metadata": {
        "id": "5TLAGU7unn83"
      },
      "execution_count": null,
      "outputs": []
    },
    {
      "cell_type": "code",
      "source": [
        "np.random.seed(42)\n",
        "\n",
        "random_array = np.random.rand(4, 4)\n",
        "tra = np.empty((4, 4))"
      ],
      "metadata": {
        "id": "FVWrFOH8osFG"
      },
      "execution_count": null,
      "outputs": []
    },
    {
      "cell_type": "code",
      "source": [
        "for i in range(4):\n",
        "    for j in range(4):\n",
        "        tra[i, j] = random_array[j, i]"
      ],
      "metadata": {
        "id": "yRoFoz-RowiA"
      },
      "execution_count": null,
      "outputs": []
    },
    {
      "cell_type": "code",
      "source": [
        "pro = np.empty((4, 4))\n"
      ],
      "metadata": {
        "id": "q8-iUR26o5Ga"
      },
      "execution_count": null,
      "outputs": []
    },
    {
      "cell_type": "code",
      "source": [
        "\n",
        "for i in range(4):\n",
        "    for j in range(4):\n",
        "        pro[i, j] = 0\n",
        "        for k in range(4):\n",
        "            pro[i, j] += random_array[i, k] * tra[k, j]"
      ],
      "metadata": {
        "id": "Ijoy8RwVpA2z"
      },
      "execution_count": null,
      "outputs": []
    },
    {
      "cell_type": "code",
      "source": [
        "reshaped=np.reshape(pro,(2,8))\n"
      ],
      "metadata": {
        "id": "xlkJnZE-pCbf"
      },
      "execution_count": null,
      "outputs": []
    },
    {
      "cell_type": "code",
      "source": [
        "print(\"The Array is :\")\n",
        "print(random_array)\n",
        "print(\"\")\n",
        "print(\"Transpose of the array :\")\n",
        "print(tra)\n",
        "print(\"\")\n",
        "print(\"product of array and its transpose is :\")\n",
        "print(pro)\n",
        "print(\"\")\n",
        "print(\"The reshaped array is :\")\n",
        "print(reshaped)\n"
      ],
      "metadata": {
        "colab": {
          "base_uri": "https://localhost:8080/"
        },
        "id": "1Jw5MopqpE7G",
        "outputId": "a0d8ec7e-0929-4316-8322-ba735b5784b5"
      },
      "execution_count": null,
      "outputs": [
        {
          "output_type": "stream",
          "name": "stdout",
          "text": [
            "The Array is :\n",
            "[[0.37454012 0.95071431 0.73199394 0.59865848]\n",
            " [0.15601864 0.15599452 0.05808361 0.86617615]\n",
            " [0.60111501 0.70807258 0.02058449 0.96990985]\n",
            " [0.83244264 0.21233911 0.18182497 0.18340451]]\n",
            "\n",
            "Transpose of the array :\n",
            "[[0.37454012 0.15601864 0.60111501 0.83244264]\n",
            " [0.95071431 0.15599452 0.70807258 0.21233911]\n",
            " [0.73199394 0.05808361 0.02058449 0.18182497]\n",
            " [0.59865848 0.86617615 0.96990985 0.18340451]]\n",
            "\n",
            "product of array and its transpose is :\n",
            "[[1.9383451  0.76780201 1.4940289  0.75654844]\n",
            " [0.76780201 0.80231093 1.04554899 0.33242197]\n",
            " [1.4940289  1.04554899 1.80385488 0.83237389]\n",
            " [0.75654844 0.33242197 0.83237389 0.80474618]]\n",
            "\n",
            "The reshaped array is :\n",
            "[[1.9383451  0.76780201 1.4940289  0.75654844 0.76780201 0.80231093\n",
            "  1.04554899 0.33242197]\n",
            " [1.4940289  1.04554899 1.80385488 0.83237389 0.75654844 0.33242197\n",
            "  0.83237389 0.80474618]]\n"
          ]
        }
      ]
    },
    {
      "cell_type": "markdown",
      "source": [
        "2)Plot any 3 different types of graphs using matplotlib."
      ],
      "metadata": {
        "id": "US7gsDwvp9vY"
      }
    },
    {
      "cell_type": "markdown",
      "source": [
        "GRAPH 1: PIE CHART\n"
      ],
      "metadata": {
        "id": "rJCrAIH_q3fW"
      }
    },
    {
      "cell_type": "code",
      "source": [
        "import matplotlib.pyplot as plt"
      ],
      "metadata": {
        "id": "vhNoGgsWq70M"
      },
      "execution_count": null,
      "outputs": []
    },
    {
      "cell_type": "code",
      "source": [
        "weightage=[5,30,15,50]\n",
        "subject=[\"quiz 1\", \"mid sem\", \"quiz 2\", \"end sem\"]\n",
        "cols=['c','m','r','b']"
      ],
      "metadata": {
        "id": "ClBnBdCGrVk_"
      },
      "execution_count": null,
      "outputs": []
    },
    {
      "cell_type": "code",
      "source": [
        "plt.pie(weightage,\n",
        "        labels=subject,\n",
        "        colors=cols,\n",
        "        startangle=30,\n",
        "        shadow=True,\n",
        "        autopct='%1.1f%%')\n",
        "plt.title('weightage of exams')\n",
        "  "
      ],
      "metadata": {
        "colab": {
          "base_uri": "https://localhost:8080/",
          "height": 445
        },
        "id": "S2HDJXqpr54b",
        "outputId": "9ae57ffe-7eb1-4f37-e4e1-90d6fad42973"
      },
      "execution_count": null,
      "outputs": [
        {
          "output_type": "execute_result",
          "data": {
            "text/plain": [
              "Text(0.5, 1.0, 'weightage of exams')"
            ]
          },
          "metadata": {},
          "execution_count": 33
        },
        {
          "output_type": "display_data",
          "data": {
            "text/plain": [
              "<Figure size 640x480 with 1 Axes>"
            ],
            "image/png": "[encoded data removed]"
          },
          "metadata": {}
        }
      ]
    },
    {
      "cell_type": "markdown",
      "source": [
        "GRAPH 2:BAR GRAPH"
      ],
      "metadata": {
        "id": "ACKPrpbVuCgn"
      }
    },
    {
      "cell_type": "code",
      "source": [
        "import matplotlib.pyplot as plt"
      ],
      "metadata": {
        "id": "Vyfu581xuyy1"
      },
      "execution_count": null,
      "outputs": []
    },
    {
      "cell_type": "code",
      "source": [
        "plt.bar([1,3,5,7],[10,12,8,14],label=\"Bar 1\") \n",
        "plt.bar([2,4,6,8],[6,7,11,9],label=\"Bar 2\")\n",
        "plt.legend()\n",
        "plt.xlabel(\"Bar No\")\n",
        "plt.ylabel(\"Bar Height\")\n",
        "\n",
        "plt.title(\"Bar Graph\")\n"
      ],
      "metadata": {
        "colab": {
          "base_uri": "https://localhost:8080/",
          "height": 489
        },
        "id": "aG-Dpd-8w-E-",
        "outputId": "6f90bbc2-11a4-4904-fd83-dde612b15c47"
      },
      "execution_count": null,
      "outputs": [
        {
          "output_type": "execute_result",
          "data": {
            "text/plain": [
              "Text(0.5, 1.0, 'Bar Graph')"
            ]
          },
          "metadata": {},
          "execution_count": 27
        },
        {
          "output_type": "display_data",
          "data": {
            "text/plain": [
              "<Figure size 640x480 with 1 Axes>"
            ],
            "image/png": "[encoded data removed]"
          },
          "metadata": {}
        }
      ]
    },
    {
      "cell_type": "markdown",
      "source": [
        "GRAPH 3:SCATTER PLOT"
      ],
      "metadata": {
        "id": "3aQjHHFyznSh"
      }
    },
    {
      "cell_type": "code",
      "source": [
        "import matplotlib.pyplot as plt"
      ],
      "metadata": {
        "id": "kEkQqZSB0jdH"
      },
      "execution_count": null,
      "outputs": []
    },
    {
      "cell_type": "code",
      "source": [
        "x=[1,2,3,4,5,6,7,8]\n",
        "y=[4,2,7,9,1,5,8,6]"
      ],
      "metadata": {
        "id": "_0GFnV6b0p-L"
      },
      "execution_count": null,
      "outputs": []
    },
    {
      "cell_type": "code",
      "source": [
        "plt.scatter(x,y,label='skitscat',color='k')\n",
        "plt.xlabel('x')\n",
        "plt.ylabel('y')\n",
        "plt.title('Scatter Plot')\n",
        "plt.legend()\n",
        "plt.show\n"
      ],
      "metadata": {
        "colab": {
          "base_uri": "https://localhost:8080/",
          "height": 489
        },
        "id": "lri3fUFD1DrE",
        "outputId": "64a1305b-b795-47bd-ff9d-a13d5ace49de"
      },
      "execution_count": null,
      "outputs": [
        {
          "output_type": "execute_result",
          "data": {
            "text/plain": [
              "<function matplotlib.pyplot.show(close=None, block=None)>"
            ]
          },
          "metadata": {},
          "execution_count": 32
        },
        {
          "output_type": "display_data",
          "data": {
            "text/plain": [
              "<Figure size 640x480 with 1 Axes>"
            ],
            "image/png": "[encoded data removed]"
          },
          "metadata": {}
        }
      ]
    }
  ]
}
{
 "cells": [
  {
   "cell_type": "code",
   "execution_count": 1,
   "id": "a2b9f768",
   "metadata": {},
   "outputs": [],
   "source": [
    "import numpy as np"
   ]
  },
  {
   "cell_type": "code",
   "execution_count": 9,
   "id": "b6eb40f0",
   "metadata": {},
   "outputs": [
    {
     "name": "stdout",
     "output_type": "stream",
     "text": [
      "[[0.2289156  0.63309736 0.7360207  0.23774963]\n",
      " [0.80024592 0.10077604 0.68696136 0.18365737]\n",
      " [0.79558854 0.20341337 0.05415621 0.5581372 ]\n",
      " [0.58955239 0.60067897 0.47494336 0.913567  ]]\n"
     ]
    }
   ],
   "source": [
    "matrix = np.random.rand(4, 4)\n",
    "print(matrix)"
   ]
  },
  {
   "cell_type": "code",
   "execution_count": 10,
   "id": "a8fb1603",
   "metadata": {},
   "outputs": [
    {
     "name": "stdout",
     "output_type": "stream",
     "text": [
      "[[1.05146598 0.79627208 0.4834601  1.08201437]\n",
      " [0.79627208 1.15619529 0.79687491 1.02637199]\n",
      " [0.4834601  0.79687491 0.98878816 1.12684412]\n",
      " [1.08201437 1.02637199 1.12684412 1.7685631 ]]\n"
     ]
    }
   ],
   "source": [
    "result = np.empty((4, 4))\n",
    "for i in range(4):\n",
    "    for j in range(4):\n",
    "        result[i, j] = sum(matrix[i, k] * matrix[j, k] for k in range(4))\n",
    "print(result)\n"
   ]
  },
  {
   "cell_type": "code",
   "execution_count": 11,
   "id": "851896ea",
   "metadata": {},
   "outputs": [
    {
     "name": "stdout",
     "output_type": "stream",
     "text": [
      "[[1.05146598 0.79627208 0.4834601  1.08201437 0.79627208 1.15619529\n",
      "  0.79687491 1.02637199]\n",
      " [0.4834601  0.79687491 0.98878816 1.12684412 1.08201437 1.02637199\n",
      "  1.12684412 1.7685631 ]]\n"
     ]
    }
   ],
   "source": [
    "reshaped_result = np.reshape(result, (2, 8))\n",
    "print(reshaped_result)"
   ]
  },
  {
   "cell_type": "code",
   "execution_count": null,
   "id": "b09cff07",
   "metadata": {},
   "outputs": [],
   "source": []
  }
 ],
 "metadata": {
  "kernelspec": {
   "display_name": "Python 3 (ipykernel)",
   "language": "python",
   "name": "python3"
  },
  "language_info": {
   "codemirror_mode": {
    "name": "ipython",
    "version": 3
   },
   "file_extension": ".py",
   "mimetype": "text/x-python",
   "name": "python",
   "nbconvert_exporter": "python",
   "pygments_lexer": "ipython3",
   "version": "3.10.9"
  }
 },
 "nbformat": 4,
 "nbformat_minor": 5
}
